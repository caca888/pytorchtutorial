{
 "cells": [
  {
   "cell_type": "code",
   "execution_count": 1,
   "metadata": {},
   "outputs": [
    {
     "name": "stdout",
     "output_type": "stream",
     "text": [
      "tensor(-2.)\n"
     ]
    }
   ],
   "source": [
    "import numpy as np\n",
    "import torch\n",
    "\n",
    "# f(x)=a*x**2 + b*x + c\n",
    "x=torch.tensor(0.0,requires_grad=True) # due to gradient on x\n",
    "a=torch.tensor(1.0)\n",
    "b=torch.tensor(-2.0)\n",
    "c=torch.tensor(1.0)\n",
    "y=a*torch.pow(x,2)+b*x+c\n",
    "\n",
    "y.backward()\n",
    "dy_dx=x.grad\n",
    "print(dy_dx)"
   ]
  },
  {
   "cell_type": "code",
   "execution_count": 10,
   "metadata": {},
   "outputs": [
    {
     "name": "stdout",
     "output_type": "stream",
     "text": [
      "x**2:\n",
      " tensor([[0., 0.],\n",
      "        [1., 4.]], grad_fn=<MulBackward0>)\n",
      "x*x':\n",
      " tensor([[0., 0.],\n",
      "        [2., 4.]], grad_fn=<MmBackward>)\n",
      "x:\n",
      " tensor([[0., 0.],\n",
      "        [1., 2.]], requires_grad=True)\n",
      "y:\n",
      " tensor([[1., 1.],\n",
      "        [0., 1.]], grad_fn=<AddBackward0>)\n",
      "x_grad:\n",
      " tensor([[-2., -2.],\n",
      "        [ 0.,  2.]])\n"
     ]
    }
   ],
   "source": [
    "import numpy as np\n",
    "import torch\n",
    "\n",
    "x=torch.tensor([[0.0,0.0],[1.0,2.0]],requires_grad=True)\n",
    "a=torch.tensor(1.0)\n",
    "b=torch.tensor(-2.0)\n",
    "c=torch.tensor(1.0)\n",
    "y=a*torch.pow(x,2)+b*x+c\n",
    "\n",
    "gradient=torch.tensor([[1.0,1.0],[1.0,1.0]])\n",
    "\n",
    "print(\"x**2:\\n\",a*torch.pow(x,2))\n",
    "print(\"x*x':\\n\",torch.matmul(x,x))\n",
    "print(\"x:\\n\",x)\n",
    "print(\"y:\\n\",y)\n",
    "y.backward(gradient=gradient)\n",
    "x_grad=x.grad\n",
    "print(\"x_grad:\\n\",x_grad)"
   ]
  },
  {
   "cell_type": "code",
   "execution_count": null,
   "metadata": {},
   "outputs": [],
   "source": []
  }
 ],
 "metadata": {
  "kernelspec": {
   "display_name": "Python 3",
   "language": "python",
   "name": "python3"
  },
  "language_info": {
   "codemirror_mode": {
    "name": "ipython",
    "version": 3
   },
   "file_extension": ".py",
   "mimetype": "text/x-python",
   "name": "python",
   "nbconvert_exporter": "python",
   "pygments_lexer": "ipython3",
   "version": "3.7.4"
  }
 },
 "nbformat": 4,
 "nbformat_minor": 4
}
